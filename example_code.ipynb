{
 "cells": [
  {
   "cell_type": "markdown",
   "metadata": {},
   "source": [
    "### Example usage: plotting a histogram with nice tickmarks"
   ]
  },
  {
   "cell_type": "code",
   "execution_count": 9,
   "metadata": {},
   "outputs": [
    {
     "name": "stdout",
     "output_type": "stream",
     "text": [
      "min: -148  max:  700  range:  848  ticks: [-148, 0, 250, 500, 700]\n"
     ]
    },
    {
     "data": {
      "image/png": "[encoded data removed]",
      "text/plain": [
       "<Figure size 432x288 with 1 Axes>"
      ]
     },
     "metadata": {
      "needs_background": "light"
     },
     "output_type": "display_data"
    }
   ],
   "source": [
    "from calculate_ticks import calculate_ticks\n",
    "import random\n",
    "import matplotlib.pyplot as plt \n",
    "\n",
    "# get random min and max values\n",
    "elevmin = random.randint(-500, 6000)\n",
    "elevmax = elevmin + random.randint(100, 1000)   \n",
    "\n",
    "# generate 100 random values between min and max\n",
    "elevs = [random.randint(elevmin, elevmax) for _ in range(1000)]\n",
    "\n",
    "# depending on the range of the values, how many steps should be used?\n",
    "step_sizes = {\n",
    "        10: 2,\n",
    "        50: 10,   \n",
    "        100: 25,  \n",
    "        250: 50,\n",
    "        500: 100,\n",
    "        1000: 250,\n",
    "        2500: 500,\n",
    "        5000: 1000,\n",
    "        10000: 5000,\n",
    "    }\n",
    "\n",
    "# calculate the tickmarks\n",
    "ticks = calculate_ticks(elevmin, elevmax)\n",
    "print(f\"min: {elevmin:4d}  max: {elevmax:4d}  range: {elevmax-elevmin:4d}\", \" ticks:\", ticks)\n",
    "\n",
    "# create a histogram from elevs\n",
    "import matplotlib.pyplot as plt\n",
    "plt.hist(elevs)\n",
    "plt.title(f\"Elevation histogram\")\n",
    "plt.xlabel(\"Elevation\")\n",
    "plt.ylabel(\"Count\")\n",
    "plt.xlim(elevmin, elevmax)\n",
    "plt.show()\n",
    "\n"
   ]
  }
 ],
 "metadata": {
  "kernelspec": {
   "display_name": "Python 3",
   "language": "python",
   "name": "python3"
  },
  "language_info": {
   "codemirror_mode": {
    "name": "ipython",
    "version": 3
   },
   "file_extension": ".py",
   "mimetype": "text/x-python",
   "name": "python",
   "nbconvert_exporter": "python",
   "pygments_lexer": "ipython3",
   "version": "3.10.9"
  }
 },
 "nbformat": 4,
 "nbformat_minor": 2
}
